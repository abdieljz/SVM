{
 "cells": [
  {
   "cell_type": "markdown",
   "id": "47eda035",
   "metadata": {},
   "source": [
    "# Support Vector Machine (SVM)"
   ]
  },
  {
   "cell_type": "code",
   "execution_count": 1,
   "id": "b7b65c2e",
   "metadata": {},
   "outputs": [],
   "source": [
    "'''Se importan las librerías y módulos que se van a utilizar'''\n",
    "\n",
    "from sklearn import datasets\n",
    "from sklearn.model_selection import train_test_split\n",
    "from sklearn import svm\n",
    "from sklearn import metrics\n",
    "\n",
    "import pandas as pd\n",
    "import seaborn as sn\n",
    "import matplotlib.pyplot as plt"
   ]
  },
  {
   "cell_type": "code",
   "execution_count": 2,
   "id": "bba9b315",
   "metadata": {},
   "outputs": [
    {
     "name": "stdout",
     "output_type": "stream",
     "text": [
      "Features:\n",
      " ['pixel_0_0', 'pixel_0_1', 'pixel_0_2', 'pixel_0_3', 'pixel_0_4', 'pixel_0_5', 'pixel_0_6', 'pixel_0_7', 'pixel_1_0', 'pixel_1_1', 'pixel_1_2', 'pixel_1_3', 'pixel_1_4', 'pixel_1_5', 'pixel_1_6', 'pixel_1_7', 'pixel_2_0', 'pixel_2_1', 'pixel_2_2', 'pixel_2_3', 'pixel_2_4', 'pixel_2_5', 'pixel_2_6', 'pixel_2_7', 'pixel_3_0', 'pixel_3_1', 'pixel_3_2', 'pixel_3_3', 'pixel_3_4', 'pixel_3_5', 'pixel_3_6', 'pixel_3_7', 'pixel_4_0', 'pixel_4_1', 'pixel_4_2', 'pixel_4_3', 'pixel_4_4', 'pixel_4_5', 'pixel_4_6', 'pixel_4_7', 'pixel_5_0', 'pixel_5_1', 'pixel_5_2', 'pixel_5_3', 'pixel_5_4', 'pixel_5_5', 'pixel_5_6', 'pixel_5_7', 'pixel_6_0', 'pixel_6_1', 'pixel_6_2', 'pixel_6_3', 'pixel_6_4', 'pixel_6_5', 'pixel_6_6', 'pixel_6_7', 'pixel_7_0', 'pixel_7_1', 'pixel_7_2', 'pixel_7_3', 'pixel_7_4', 'pixel_7_5', 'pixel_7_6', 'pixel_7_7']\n",
      "Labels:\n",
      " [0 1 2 3 4 5 6 7 8 9]\n",
      "Shape:\n",
      " (1797, 64)\n",
      "Top five records:\n",
      " [[ 0.  0.  5. 13.  9.  1.  0.  0.  0.  0. 13. 15. 10. 15.  5.  0.  0.  3.\n",
      "  15.  2.  0. 11.  8.  0.  0.  4. 12.  0.  0.  8.  8.  0.  0.  5.  8.  0.\n",
      "   0.  9.  8.  0.  0.  4. 11.  0.  1. 12.  7.  0.  0.  2. 14.  5. 10. 12.\n",
      "   0.  0.  0.  0.  6. 13. 10.  0.  0.  0.]\n",
      " [ 0.  0.  0. 12. 13.  5.  0.  0.  0.  0.  0. 11. 16.  9.  0.  0.  0.  0.\n",
      "   3. 15. 16.  6.  0.  0.  0.  7. 15. 16. 16.  2.  0.  0.  0.  0.  1. 16.\n",
      "  16.  3.  0.  0.  0.  0.  1. 16. 16.  6.  0.  0.  0.  0.  1. 16. 16.  6.\n",
      "   0.  0.  0.  0.  0. 11. 16. 10.  0.  0.]\n",
      " [ 0.  0.  0.  4. 15. 12.  0.  0.  0.  0.  3. 16. 15. 14.  0.  0.  0.  0.\n",
      "   8. 13.  8. 16.  0.  0.  0.  0.  1.  6. 15. 11.  0.  0.  0.  1.  8. 13.\n",
      "  15.  1.  0.  0.  0.  9. 16. 16.  5.  0.  0.  0.  0.  3. 13. 16. 16. 11.\n",
      "   5.  0.  0.  0.  0.  3. 11. 16.  9.  0.]\n",
      " [ 0.  0.  7. 15. 13.  1.  0.  0.  0.  8. 13.  6. 15.  4.  0.  0.  0.  2.\n",
      "   1. 13. 13.  0.  0.  0.  0.  0.  2. 15. 11.  1.  0.  0.  0.  0.  0.  1.\n",
      "  12. 12.  1.  0.  0.  0.  0.  0.  1. 10.  8.  0.  0.  0.  8.  4.  5. 14.\n",
      "   9.  0.  0.  0.  7. 13. 13.  9.  0.  0.]\n",
      " [ 0.  0.  0.  1. 11.  0.  0.  0.  0.  0.  0.  7.  8.  0.  0.  0.  0.  0.\n",
      "   1. 13.  6.  2.  2.  0.  0.  0.  7. 15.  0.  9.  8.  0.  0.  5. 16. 10.\n",
      "   0. 16.  6.  0.  0.  4. 15. 16. 13. 16.  1.  0.  0.  0.  0.  3. 15. 10.\n",
      "   0.  0.  0.  0.  0.  2. 16.  4.  0.  0.]]\n"
     ]
    }
   ],
   "source": [
    "'''Se mandan a llamar los datos del dataframe y se los imprime'''\n",
    "df = datasets.load_digits()   \n",
    "\n",
    "'''características del dataset'''\n",
    "print(\"Features:\\n\", df.feature_names)  \n",
    "\n",
    "'''etiquetas del dataset'''\n",
    "print(\"Labels:\\n\", df.target_names)  \n",
    "    \n",
    "'''forma del dataset'''\n",
    "print(\"Shape:\\n\", df.data.shape) \n",
    "\n",
    "'''5 primeros registros'''   \n",
    "print(\"Top five records:\\n\", df.data[0:5])  \n"
   ]
  },
  {
   "cell_type": "markdown",
   "id": "f2b6e353",
   "metadata": {},
   "source": [
    "### Función para el entrenamiento de \"x\" y \"y\" y la predicción del resultado"
   ]
  },
  {
   "cell_type": "code",
   "execution_count": 3,
   "id": "fdaf388a",
   "metadata": {},
   "outputs": [],
   "source": [
    "'''Se declara las variables del df que van a entrar en procesamiento'''\n",
    "X_train, X_test, y_train, y_test = train_test_split(df.data, df.target, test_size=0.3, random_state=109)\n",
    "\n",
    "'''Crea un clasificador svm con kernel linea'''\n",
    "clf = svm.SVC(kernel='linear')   \n",
    "\n",
    "'''Se procede a entrenar el modelo'''   \n",
    "clf.fit(X_train, y_train)    \n",
    "\n",
    "'''Se obtiene la predicción'''\n",
    "y_pred = clf.predict(X_test) \n"
   ]
  },
  {
   "cell_type": "markdown",
   "id": "b39d4d11",
   "metadata": {},
   "source": [
    "### Como resultado, se muestra el porcentaje de accuracy, precision y recall"
   ]
  },
  {
   "cell_type": "code",
   "execution_count": 4,
   "id": "333d8532",
   "metadata": {},
   "outputs": [
    {
     "name": "stdout",
     "output_type": "stream",
     "text": [
      "Accuracy: 0.9814814814814815\n",
      "Precision: 0.9814814814814815\n",
      "Recall: 0.9821235261345918\n"
     ]
    }
   ],
   "source": [
    "'''Precisión del modelo: ¿con qué frecuencia es correcto el clasificador?'''\n",
    "print(\"Accuracy:\", metrics.accuracy_score(y_test, y_pred))     \n",
    "\n",
    "'''Precisión del modelo: ¿qué porcentaje de tuplas positivas son etiquetadas como tales?'''\n",
    "print(\"Precision:\", metrics.precision_score(y_test, y_pred,average='micro'))\n",
    "\n",
    "'''Model Recall: ¿qué porcentaje de tuplas positivas son etiquetadas como tales?'''\n",
    "print(\"Recall:\", metrics.recall_score(y_test, y_pred,average='macro'))  \n"
   ]
  },
  {
   "cell_type": "code",
   "execution_count": 5,
   "id": "23de4a0b",
   "metadata": {},
   "outputs": [
    {
     "data": {
      "image/png": "[encoded data removed]",
      "text/plain": [
       "<Figure size 432x288 with 2 Axes>"
      ]
     },
     "metadata": {
      "needs_background": "light"
     },
     "output_type": "display_data"
    }
   ],
   "source": [
    "'''Proporción determinar de las 10 label de las cuales se hizo la predicción'''\n",
    "data = {'y_Actual':y_test,'y_Predicted': y_pred}\n",
    "\n",
    "'''Llamada al DataFrame'''\n",
    "df = pd.DataFrame(data, columns=['y_Actual','y_Predicted'])\n",
    "confusion_matrix = pd.crosstab(df['y_Actual'], df['y_Predicted'], rownames=['Actual'], colnames=['Predicted'])\n",
    "\n",
    "'''Ya predicho el modelo se lo grafica'''\n",
    "sn.heatmap(confusion_matrix, annot=True)\n",
    "plt.show()"
   ]
  },
  {
   "cell_type": "code",
   "execution_count": null,
   "id": "a1d4e187",
   "metadata": {},
   "outputs": [],
   "source": []
  }
 ],
 "metadata": {
  "kernelspec": {
   "display_name": "Python 3 (ipykernel)",
   "language": "python",
   "name": "python3"
  },
  "language_info": {
   "codemirror_mode": {
    "name": "ipython",
    "version": 3
   },
   "file_extension": ".py",
   "mimetype": "text/x-python",
   "name": "python",
   "nbconvert_exporter": "python",
   "pygments_lexer": "ipython3",
   "version": "3.9.12"
  }
 },
 "nbformat": 4,
 "nbformat_minor": 5
}
